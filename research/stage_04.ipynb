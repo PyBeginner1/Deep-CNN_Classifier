{
 "cells": [
  {
   "cell_type": "code",
   "execution_count": 1,
   "metadata": {},
   "outputs": [],
   "source": [
    "import os"
   ]
  },
  {
   "cell_type": "code",
   "execution_count": 2,
   "metadata": {},
   "outputs": [
    {
     "data": {
      "text/plain": [
       "'d:\\\\iNeuron\\\\Complete Project\\\\Deep-CNN_Classifier\\\\research'"
      ]
     },
     "execution_count": 2,
     "metadata": {},
     "output_type": "execute_result"
    }
   ],
   "source": [
    "os.getcwd()"
   ]
  },
  {
   "cell_type": "code",
   "execution_count": 3,
   "metadata": {},
   "outputs": [],
   "source": [
    "os.chdir('../')"
   ]
  },
  {
   "cell_type": "code",
   "execution_count": 4,
   "metadata": {},
   "outputs": [
    {
     "data": {
      "text/plain": [
       "'d:\\\\iNeuron\\\\Complete Project\\\\Deep-CNN_Classifier'"
      ]
     },
     "execution_count": 4,
     "metadata": {},
     "output_type": "execute_result"
    }
   ],
   "source": [
    "os.getcwd()"
   ]
  },
  {
   "cell_type": "code",
   "execution_count": 9,
   "metadata": {},
   "outputs": [],
   "source": [
    "from dataclasses import dataclass\n",
    "from pathlib import Path\n",
    "\n",
    "@dataclass(frozen=True)\n",
    "class TrainingConfig:\n",
    "    root_dir : Path\n",
    "    trained_model_path: Path\n",
    "    updated_base_model_path : Path\n",
    "    training_data: Path\n",
    "    params_epoch: int\n",
    "    params_batch_size: int\n",
    "    params_image_size: list\n",
    "    params_is_augmentation: bool"
   ]
  },
  {
   "cell_type": "code",
   "execution_count": 7,
   "metadata": {},
   "outputs": [],
   "source": [
    "from deepClassifier.constants import *\n",
    "from deepClassifier.utils import read_yaml, create_directories"
   ]
  },
  {
   "cell_type": "code",
   "execution_count": 10,
   "metadata": {},
   "outputs": [],
   "source": [
    "from pathlib import Path \n",
    "\n",
    "class ConfigurationManager:\n",
    "    def __init__(self, \n",
    "                config_file_path = CONFIG_FILE_PATH, \n",
    "                params_file_path = PARAMS_FILE_PATH):\n",
    "        try:\n",
    "            self.config = read_yaml(config_file_path)\n",
    "            self.params = read_yaml(params_file_path)\n",
    "            create_directories([self.config.artifacts_root])\n",
    "        except Exception as e:\n",
    "            raise e\n",
    "\n",
    "    def get_training_config(self):\n",
    "        try:\n",
    "            training = self.config.training\n",
    "            prepare_base_model = self.config.prepare_base_model\n",
    "            data_ingestion = self.config.data_ingestion\n",
    "            params=self.params\n",
    "\n",
    "            create_directories([Path(training.root_dir)])\n",
    "\n",
    "            training_config = TrainingConfig(\n",
    "                root_dir = Path(training.root_dir),\n",
    "                trained_model_path=Path(training.trained_model_path),\n",
    "                updated_base_model_path=Path(prepare_base_model.updated_base_model_path),\n",
    "                training_data=Path(os.path.join(data_ingestion.unzip_dir,\"PetImages\")),\n",
    "                params_epoch=params.EPOCHS,\n",
    "                params_batch_size=params.BATCH_SIZE,\n",
    "                params_image_size=params.IMAGE_SIZE,\n",
    "                params_is_augmentation=params.AUGMENTATION\n",
    "            )\n",
    "            return training_config\n",
    "        except Exception as e:\n",
    "            raise e\n",
    "        \n",
    "        "
   ]
  },
  {
   "cell_type": "code",
   "execution_count": 11,
   "metadata": {},
   "outputs": [],
   "source": [
    "import tensorflow as tf\n",
    "\n",
    "\n",
    "class Training:\n",
    "    def __init__(self, config: TrainingConfig):\n",
    "        self.config = config\n",
    "\n",
    "    def get_base_model(self):\n",
    "        try:\n",
    "            self.model = tf.keras.models.load_model(self.config.updated_base_model_path)\n",
    "        except Exception as e:\n",
    "            raise e\n",
    "        \n",
    "    def train_valid_generator(self):\n",
    "        try:\n",
    "            datagenerator_kwargs = dict(\n",
    "                rescale = 1./255,\n",
    "                vaidation_split = 0.2\n",
    "            )\n",
    "\n",
    "            dataflow_kwargs = dict(\n",
    "                target_size = self.config.params_image_size,\n",
    "                batch_size = self.config.params_batch_size,\n",
    "                interpolation = \"bilinear\"\n",
    "            )\n",
    "\n",
    "            valid_datagenerator = tf.keras.preprocessing.image.ImageDataGenerator(\n",
    "                **datagenerator_kwargs\n",
    "            )\n",
    "\n",
    "            self.valid_generator = valid_datagenerator.flow_from_directory(\n",
    "                self.config.training_data,\n",
    "                subset = \"validation\",\n",
    "                shuffle = False,\n",
    "                **dataflow_kwargs\n",
    "            )\n",
    "\n",
    "            if self.config.params_is_augmentation:\n",
    "                training_datagenerator = tf.keras.preprocessing.image.ImageDataGenerator(\n",
    "                    rotation_range = 40,\n",
    "                    horizontal_flip = True,\n",
    "                    shear_range = 0.2,\n",
    "                    zoom_range = 0.2,\n",
    "                    width_shift_range = 0.2,\n",
    "                    height_shift_range = 0.2,\n",
    "                    **datagenerator_kwargs\n",
    "                )\n",
    "            else:\n",
    "                training_datagenerator = valid_datagenerator\n",
    "\n",
    "            self.train_generator = training_datagenerator.flow_from_directory(\n",
    "                    directory = self.config.training_data,\n",
    "                    subset = \"training\",\n",
    "                    shuffle = False,\n",
    "                    **dataflow_kwargs\n",
    "                )\n",
    "        except Exception as e:\n",
    "            raise e\n",
    "\n",
    "    @staticmethod    \n",
    "    def save_model(path: Path, model: tf.keras.Model):\n",
    "        try:\n",
    "            model.save(path)\n",
    "        except Exception as e:\n",
    "           raise e \n",
    "        \n",
    "    def train(self):\n",
    "        try:\n",
    "            self.steps_per_epoch = self.train_generator.samples // self.config.params_batch_size\n",
    "            self.validation_steps = self.valid_generator.samples // self.config.params_batch_size\n",
    "\n",
    "            self.model.fit(\n",
    "                self.train_generator,\n",
    "                epochs = self.config.params_epoch,\n",
    "                steps_per_epoch = self.steps_per_epoch,\n",
    "                validation_steps = self.validation_steps,\n",
    "                validation_data = self.valid_generator,\n",
    "                callbacks = callback_list\n",
    "            )\n",
    "\n",
    "            self.save_model(\n",
    "                path = self.config.trained_model_path,\n",
    "                model  = self.model\n",
    "            )\n",
    "        except Exception as e:\n",
    "            raise e"
   ]
  },
  {
   "cell_type": "code",
   "execution_count": null,
   "metadata": {},
   "outputs": [],
   "source": [
    "try:\n",
    "    config = ConfigurationManager()\n",
    "    prepare_callbacks_model_config = config.get_prepare_callback_config()\n",
    "    prepare_callbacks_model = PrepareCallbacks(config=prepare_callbacks_model_config)\n",
    "    callback_list = prepare_callbacks_model.get_tb_ckpt_callbacks()\n",
    "\n",
    "    #config = ConfigurationManager()\n",
    "    training_config = config.get_training_config()\n",
    "    training_model = Training(config=training_config)\n",
    "    training_model.get_base_model()\n",
    "    training_model.train_valid_generator()\n",
    "    training_model.train(\n",
    "        callback_list = callback_list\n",
    "    )\n",
    "except Exception as e:\n",
    "    raise e "
   ]
  }
 ],
 "metadata": {
  "kernelspec": {
   "display_name": "Python 3",
   "language": "python",
   "name": "python3"
  },
  "language_info": {
   "codemirror_mode": {
    "name": "ipython",
    "version": 3
   },
   "file_extension": ".py",
   "mimetype": "text/x-python",
   "name": "python",
   "nbconvert_exporter": "python",
   "pygments_lexer": "ipython3",
   "version": "3.8.16"
  },
  "orig_nbformat": 4,
  "vscode": {
   "interpreter": {
    "hash": "2ee081d1bcc302435b932060a171236468ce37c48e4a1266f426a76ec7549d92"
   }
  }
 },
 "nbformat": 4,
 "nbformat_minor": 2
}
