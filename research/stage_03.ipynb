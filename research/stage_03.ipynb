{
 "cells": [
  {
   "cell_type": "code",
   "execution_count": 1,
   "metadata": {},
   "outputs": [],
   "source": [
    "import os"
   ]
  },
  {
   "cell_type": "code",
   "execution_count": 2,
   "metadata": {},
   "outputs": [
    {
     "data": {
      "text/plain": [
       "'d:\\\\iNeuron\\\\Complete Project\\\\Deep-CNN_Classifier\\\\research'"
      ]
     },
     "execution_count": 2,
     "metadata": {},
     "output_type": "execute_result"
    }
   ],
   "source": [
    "os.getcwd()"
   ]
  },
  {
   "cell_type": "code",
   "execution_count": 3,
   "metadata": {},
   "outputs": [],
   "source": [
    "os.chdir('../')"
   ]
  },
  {
   "cell_type": "code",
   "execution_count": 4,
   "metadata": {},
   "outputs": [
    {
     "data": {
      "text/plain": [
       "'d:\\\\iNeuron\\\\Complete Project\\\\Deep-CNN_Classifier'"
      ]
     },
     "execution_count": 4,
     "metadata": {},
     "output_type": "execute_result"
    }
   ],
   "source": [
    "os.getcwd()"
   ]
  },
  {
   "cell_type": "code",
   "execution_count": 25,
   "metadata": {},
   "outputs": [],
   "source": [
    "from dataclasses import dataclass\n",
    "from pathlib import Path\n",
    "\n",
    "@dataclass(frozen=True)\n",
    "class PrepareCallbacksConfig:\n",
    "    root_dir : Path\n",
    "    tensorboard_root_log_dir: Path\n",
    "    checkpoint_model_filepath: Path"
   ]
  },
  {
   "cell_type": "code",
   "execution_count": 6,
   "metadata": {},
   "outputs": [],
   "source": [
    "from deepClassifier.constants import *\n",
    "from deepClassifier.utils import read_yaml, create_directories"
   ]
  },
  {
   "cell_type": "code",
   "execution_count": 8,
   "metadata": {},
   "outputs": [
    {
     "data": {
      "text/plain": [
       "'artifacts/prepare_callbacks/checkpoint_dir'"
      ]
     },
     "execution_count": 8,
     "metadata": {},
     "output_type": "execute_result"
    }
   ],
   "source": [
    "os.path.dirname('artifacts/prepare_callbacks/checkpoint_dir/model.h5')"
   ]
  },
  {
   "cell_type": "code",
   "execution_count": 9,
   "metadata": {},
   "outputs": [],
   "source": [
    "from pathlib import Path \n",
    "\n",
    "class ConfigurationManager:\n",
    "    def __init__(self, \n",
    "                config_file_path = CONFIG_FILE_PATH, \n",
    "                params_file_path = PARAMS_FILE_PATH):\n",
    "        try:\n",
    "            self.config = read_yaml(config_file_path)\n",
    "            self.params = read_yaml(params_file_path)\n",
    "            create_directories([self.config.artifacts_root])\n",
    "        except Exception as e:\n",
    "            raise e\n",
    "\n",
    "    def get_prepare_callback_config(self) -> PrepareCallbacksConfig:\n",
    "        try:\n",
    "            config = self.config.prepare_callbacks\n",
    "\n",
    "            root_dir = config.root_dir\n",
    "            model_checkpoint_dir = os.path.dirname(config.checkpoint_model_filepath)   \n",
    "\n",
    "            create_directories([\n",
    "                Path(model_checkpoint_dir),\n",
    "                Path(config.tensorboard_root_log_dir)\n",
    "            ])         \n",
    "\n",
    "            prepare_callback_config = PrepareCallbacksConfig(\n",
    "                root_dir=Path(root_dir),\n",
    "                tensorboard_root_log_dir=Path(config.tensorboard_root_log_dir),\n",
    "                checkpoint_model_filepath=Path(config.checkpoint_model_filepath)\n",
    "            )\n",
    "            \n",
    "            return prepare_callback_config\n",
    "        except Exception as e:\n",
    "            raise e"
   ]
  },
  {
   "cell_type": "code",
   "execution_count": 11,
   "metadata": {},
   "outputs": [
    {
     "data": {
      "text/plain": [
       "'2023-02-16-08-22-26'"
      ]
     },
     "execution_count": 11,
     "metadata": {},
     "output_type": "execute_result"
    }
   ],
   "source": [
    "import time \n",
    "\n",
    "time.strftime(\"%Y-%m-%d-%H-%M-%S\")"
   ]
  },
  {
   "cell_type": "code",
   "execution_count": 44,
   "metadata": {},
   "outputs": [],
   "source": [
    "import tensorflow as tf\n",
    "import time \n",
    "\n",
    "\n",
    "class PrepareCallbacks:\n",
    "    def __init__(self, config: PrepareCallbacksConfig):\n",
    "        self.config = config\n",
    "\n",
    "    #Enable visualizations for TensorBoard.\n",
    "    @property\n",
    "    def _create_tb_callbacks(self):                                                 \n",
    "        try:\n",
    "            timestamp = time.strftime(\"%Y-%m-%d-%H-%M-%S\")\n",
    "            tb_running_log_dir = os.path.join(\n",
    "                                            self.config.tensorboard_root_log_dir,\n",
    "                                            f\"tb_logs_at_{timestamp}\"\n",
    "                                                )   \n",
    "            return tf.keras.callbacks.TensorBoard(log_dir=tb_running_log_dir)\n",
    "        except Exception as e:\n",
    "            raise e\n",
    "        \n",
    "    #ModelCheckpoint callback is used in conjunction with training using model. fit() to save a model or weights (in a checkpoint file) //\n",
    "    # at some interval, so the model or weights can be loaded later to continue the training from the state saved.    \n",
    "    @property\n",
    "    def _create_ckpt_callbacks(self):\n",
    "        try:\n",
    "            return tf.keras.callbacks.ModelCheckpoint(filepath = self.config.checkpoint_model_filepath,\n",
    "                                                      save_best_only = True)\n",
    "        except Exception as e:\n",
    "            raise e\n",
    "\n",
    "\n",
    "    def get_tb_ckpt_callbacks(self):\n",
    "        try:\n",
    "            return [self._create_tb_callbacks,self._create_ckpt_callbacks]\n",
    "        except Exception as e:\n",
    "            raise e"
   ]
  },
  {
   "cell_type": "code",
   "execution_count": 45,
   "metadata": {},
   "outputs": [],
   "source": [
    "try:\n",
    "    config = ConfigurationManager()\n",
    "    prepare_callbacks_model_config = config.get_prepare_callback_config()\n",
    "    prepare_callbacks_model = PrepareCallbacks(config=prepare_callbacks_model_config)\n",
    "    prepare_callbacks_model.get_tb_ckpt_callbacks()\n",
    "except Exception as e:\n",
    "    raise e "
   ]
  },
  {
   "cell_type": "code",
   "execution_count": null,
   "metadata": {},
   "outputs": [],
   "source": []
  }
 ],
 "metadata": {
  "kernelspec": {
   "display_name": "Python 3",
   "language": "python",
   "name": "python3"
  },
  "language_info": {
   "codemirror_mode": {
    "name": "ipython",
    "version": 3
   },
   "file_extension": ".py",
   "mimetype": "text/x-python",
   "name": "python",
   "nbconvert_exporter": "python",
   "pygments_lexer": "ipython3",
   "version": "3.8.16"
  },
  "orig_nbformat": 4,
  "vscode": {
   "interpreter": {
    "hash": "2ee081d1bcc302435b932060a171236468ce37c48e4a1266f426a76ec7549d92"
   }
  }
 },
 "nbformat": 4,
 "nbformat_minor": 2
}
