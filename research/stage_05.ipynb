{
 "cells": [
  {
   "cell_type": "code",
   "execution_count": 1,
   "metadata": {},
   "outputs": [],
   "source": [
    "import tensorflow as tf "
   ]
  },
  {
   "cell_type": "code",
   "execution_count": 2,
   "metadata": {},
   "outputs": [
    {
     "data": {
      "text/plain": [
       "'d:\\\\iNeuron\\\\Complete Project\\\\Deep-CNN_Classifier'"
      ]
     },
     "execution_count": 2,
     "metadata": {},
     "output_type": "execute_result"
    }
   ],
   "source": [
    "import os\n",
    "os.chdir('../')\n",
    "os.getcwd()"
   ]
  },
  {
   "cell_type": "code",
   "execution_count": 3,
   "metadata": {},
   "outputs": [],
   "source": [
    "os.environ[\"MLFLOW_TRACKING_URI\"]= \"URI=https://dagshub.com/PyBeginner1/Deep-CNN_Classifier.mlflow\"\n",
    "os.environ[\"MLFLOW_TRACKING_USERNAME\"]=\"PyBeginner1\"\n",
    "os.environ[\"MLFLOW_TRACKING_PASSWORD\"]=\"ef0c7d067cbd1be8ceddac7de8d97dc9a7cf7748\""
   ]
  },
  {
   "cell_type": "code",
   "execution_count": 3,
   "metadata": {},
   "outputs": [],
   "source": [
    "model = tf.keras.models.load_model(\"artifacts/training/model.h5\")"
   ]
  },
  {
   "cell_type": "code",
   "execution_count": null,
   "metadata": {},
   "outputs": [],
   "source": [
    "from dataclasses import dataclass\n",
    "from pathlib import Path\n",
    "\n",
    "@dataclass(frozen=True)\n",
    "class EvaluationConfig:\n",
    "    path_of_model : Path\n",
    "    training_data : Path\n",
    "    mlflow_uri : str\n",
    "    all_params : dict\n",
    "    params_image_size: list\n",
    "    params_batch_size: int"
   ]
  },
  {
   "cell_type": "code",
   "execution_count": null,
   "metadata": {},
   "outputs": [],
   "source": [
    "from deepClassifier.constants import *\n",
    "from deepClassifier.utils import read_yaml, create_directories, save_json\n",
    "\n",
    "class ConfigurationManager:\n",
    "    def __init__(self, \n",
    "                config_file_path = CONFIG_FILE_PATH, \n",
    "                params_file_path = PARAMS_FILE_PATH):\n",
    "        try:\n",
    "            self.config = read_yaml(config_file_path)\n",
    "            self.params = read_yaml(params_file_path)\n",
    "            create_directories([self.config.artifacts_root])\n",
    "        except Exception as e:\n",
    "            raise e\n",
    "        \n",
    "    def get_evaluation_config(self) -> EvaluationConfig:\n",
    "        try:\n",
    "            eval_config = EvaluationConfig(\n",
    "                path_of_model=\"artifacts/training/model.h5\",\n",
    "                training_data= \"artifacts/data_ingestion/PetImages\",\n",
    "                mlflow_uri= \"https://dagshub.com/PyBeginner1/Deep-CNN_Classifier.mlflow\",\n",
    "                all_params=self.params,\n",
    "                params_image_size=self.params.IMAGE_SIZE,\n",
    "                params_batch_size = self.params.BATCH_SIZE\n",
    "            )\n",
    "\n",
    "            return eval_config\n",
    "        except Exception as e:\n",
    "            raise e"
   ]
  },
  {
   "cell_type": "code",
   "execution_count": null,
   "metadata": {},
   "outputs": [],
   "source": [
    "import mlflow\n",
    "import mlflow.tensorflow\n",
    "from urllib.parse import urlparse\n",
    "\n",
    "class Evaluation:\n",
    "    def __init__(self, config: EvaluationConfig):\n",
    "        self.config = config\n",
    "\n",
    "    def _valid_generator(self):\n",
    "\n",
    "        datagenerator_kwargs = dict(\n",
    "            rescale = 1./255,\n",
    "            validation_split=0.30\n",
    "        )\n",
    "\n",
    "        dataflow_kwargs = dict(\n",
    "            target_size=self.config.params_image_size[:-1],\n",
    "            batch_size=self.config.params_batch_size,\n",
    "            interpolation=\"bilinear\"\n",
    "        )\n",
    "\n",
    "        valid_datagenerator = tf.keras.preprocessing.image.ImageDataGenerator(\n",
    "            **datagenerator_kwargs\n",
    "        )\n",
    "\n",
    "        self.valid_generator = valid_datagenerator.flow_from_directory(\n",
    "            directory=self.config.training_data,\n",
    "            subset=\"validation\",\n",
    "            shuffle=False,\n",
    "            **dataflow_kwargs\n",
    "        )\n",
    "\n",
    "\n",
    "    @staticmethod\n",
    "    def load_model(path: Path) -> tf.keras.Model:\n",
    "        return tf.keras.models.load_model(path)\n",
    "\n",
    "\n",
    "    def evaluation(self):\n",
    "        self.model = self.load_model(self.config.path_of_model)\n",
    "        self._valid_generator()\n",
    "        self.score = model.evaluate(self.valid_generator)\n",
    "\n",
    "    def save_score(self):\n",
    "        scores = {\"Loss\": self.score[0], \"Accuracy\": self.score[1]}\n",
    "        save_json(path=Path(\"scores.json\"), data = scores)\n",
    "\n",
    "    def log_into_mlflow(self):\n",
    "        mlflow.set_registry_uri(self.config.mlflow_uri)\n",
    "        tracking_url_type_store = urlparse(mlflow.get_tracking_uri()).scheme\n",
    "        with mlflow.start_run():\n",
    "            mlflow.log_params(self.config.all_params)\n",
    "            mlflow.log_metrics(\n",
    "                {\"loss\": self.score[0], \"accuracy\": self.score[1]}\n",
    "            )\n",
    "            # Model registry does not work with file store\n",
    "            if tracking_url_type_store != \"file\":\n",
    "\n",
    "                # Register the model\n",
    "                # There are other ways to use the Model Registry, which depends on the use case,\n",
    "                # please refer to the doc for more information:\n",
    "                # https://mlflow.org/docs/latest/model-registry.html#api-workflow\n",
    "                mlflow.keras.log_model(self.model, \"model\", registered_model_name=\"VGG16Model\")\n",
    "            else:\n",
    "                mlflow.keras.log_model(self.model, \"model\")"
   ]
  },
  {
   "cell_type": "code",
   "execution_count": 8,
   "metadata": {},
   "outputs": [
    {
     "name": "stdout",
     "output_type": "stream",
     "text": [
      "Found 7498 images belonging to 2 classes.\n",
      "469/469 [==============================] - 1864s 4s/step - loss: 2.1220 - accuracy: 0.8325\n"
     ]
    },
    {
     "ename": "FileNotFoundError",
     "evalue": "[WinError 3] The system cannot find the path specified: 'S:\\\\'",
     "output_type": "error",
     "traceback": [
      "\u001b[1;31m---------------------------------------------------------------------------\u001b[0m",
      "\u001b[1;31mFileNotFoundError\u001b[0m                         Traceback (most recent call last)",
      "Cell \u001b[1;32mIn[8], line 9\u001b[0m\n\u001b[0;32m      7\u001b[0m     evaluation\u001b[39m.\u001b[39mlog_into_mlflow()\n\u001b[0;32m      8\u001b[0m \u001b[39mexcept\u001b[39;00m \u001b[39mException\u001b[39;00m \u001b[39mas\u001b[39;00m e:\n\u001b[1;32m----> 9\u001b[0m     \u001b[39mraise\u001b[39;00m e\n",
      "Cell \u001b[1;32mIn[8], line 7\u001b[0m\n\u001b[0;32m      5\u001b[0m     evaluation\u001b[39m.\u001b[39mevaluation()\n\u001b[0;32m      6\u001b[0m     evaluation\u001b[39m.\u001b[39msave_score()\n\u001b[1;32m----> 7\u001b[0m     evaluation\u001b[39m.\u001b[39;49mlog_into_mlflow()\n\u001b[0;32m      8\u001b[0m \u001b[39mexcept\u001b[39;00m \u001b[39mException\u001b[39;00m \u001b[39mas\u001b[39;00m e:\n\u001b[0;32m      9\u001b[0m     \u001b[39mraise\u001b[39;00m e\n",
      "Cell \u001b[1;32mIn[7], line 51\u001b[0m, in \u001b[0;36mEvaluation.log_into_mlflow\u001b[1;34m(self)\u001b[0m\n\u001b[0;32m     49\u001b[0m mlflow\u001b[39m.\u001b[39mset_registry_uri(\u001b[39mself\u001b[39m\u001b[39m.\u001b[39mconfig\u001b[39m.\u001b[39mmlflow_uri)\n\u001b[0;32m     50\u001b[0m tracking_url_type_store \u001b[39m=\u001b[39m urlparse(mlflow\u001b[39m.\u001b[39mget_tracking_uri())\u001b[39m.\u001b[39mscheme\n\u001b[1;32m---> 51\u001b[0m \u001b[39mwith\u001b[39;00m mlflow\u001b[39m.\u001b[39;49mstart_run():\n\u001b[0;32m     52\u001b[0m     mlflow\u001b[39m.\u001b[39mlog_params(\u001b[39mself\u001b[39m\u001b[39m.\u001b[39mconfig\u001b[39m.\u001b[39mall_params)\n\u001b[0;32m     53\u001b[0m     mlflow\u001b[39m.\u001b[39mlog_metrics(\n\u001b[0;32m     54\u001b[0m         {\u001b[39m\"\u001b[39m\u001b[39mloss\u001b[39m\u001b[39m\"\u001b[39m: \u001b[39mself\u001b[39m\u001b[39m.\u001b[39mscore[\u001b[39m0\u001b[39m], \u001b[39m\"\u001b[39m\u001b[39maccuracy\u001b[39m\u001b[39m\"\u001b[39m: \u001b[39mself\u001b[39m\u001b[39m.\u001b[39mscore[\u001b[39m1\u001b[39m]}\n\u001b[0;32m     55\u001b[0m     )\n",
      "File \u001b[1;32md:\\iNeuron\\Complete Project\\Deep-CNN_Classifier\\env\\lib\\site-packages\\mlflow\\tracking\\fluent.py:244\u001b[0m, in \u001b[0;36mstart_run\u001b[1;34m(run_id, experiment_id, run_name, nested, tags, description)\u001b[0m\n\u001b[0;32m    236\u001b[0m \u001b[39mif\u001b[39;00m \u001b[39mlen\u001b[39m(_active_run_stack) \u001b[39m>\u001b[39m \u001b[39m0\u001b[39m \u001b[39mand\u001b[39;00m \u001b[39mnot\u001b[39;00m nested:\n\u001b[0;32m    237\u001b[0m     \u001b[39mraise\u001b[39;00m \u001b[39mException\u001b[39;00m(\n\u001b[0;32m    238\u001b[0m         (\n\u001b[0;32m    239\u001b[0m             \u001b[39m\"\u001b[39m\u001b[39mRun with UUID \u001b[39m\u001b[39m{}\u001b[39;00m\u001b[39m is already active. To start a new run, first end the \u001b[39m\u001b[39m\"\u001b[39m\n\u001b[1;32m   (...)\u001b[0m\n\u001b[0;32m    242\u001b[0m         )\u001b[39m.\u001b[39mformat(_active_run_stack[\u001b[39m0\u001b[39m]\u001b[39m.\u001b[39minfo\u001b[39m.\u001b[39mrun_id)\n\u001b[0;32m    243\u001b[0m     )\n\u001b[1;32m--> 244\u001b[0m client \u001b[39m=\u001b[39m MlflowClient()\n\u001b[0;32m    245\u001b[0m \u001b[39mif\u001b[39;00m run_id:\n\u001b[0;32m    246\u001b[0m     existing_run_id \u001b[39m=\u001b[39m run_id\n",
      "File \u001b[1;32md:\\iNeuron\\Complete Project\\Deep-CNN_Classifier\\env\\lib\\site-packages\\mlflow\\tracking\\client.py:70\u001b[0m, in \u001b[0;36mMlflowClient.__init__\u001b[1;34m(self, tracking_uri, registry_uri)\u001b[0m\n\u001b[0;32m     68\u001b[0m final_tracking_uri \u001b[39m=\u001b[39m utils\u001b[39m.\u001b[39m_resolve_tracking_uri(tracking_uri)\n\u001b[0;32m     69\u001b[0m \u001b[39mself\u001b[39m\u001b[39m.\u001b[39m_registry_uri \u001b[39m=\u001b[39m registry_utils\u001b[39m.\u001b[39m_resolve_registry_uri(registry_uri, tracking_uri)\n\u001b[1;32m---> 70\u001b[0m \u001b[39mself\u001b[39m\u001b[39m.\u001b[39m_tracking_client \u001b[39m=\u001b[39m TrackingServiceClient(final_tracking_uri)\n",
      "File \u001b[1;32md:\\iNeuron\\Complete Project\\Deep-CNN_Classifier\\env\\lib\\site-packages\\mlflow\\tracking\\_tracking_service\\client.py:43\u001b[0m, in \u001b[0;36mTrackingServiceClient.__init__\u001b[1;34m(self, tracking_uri)\u001b[0m\n\u001b[0;32m     38\u001b[0m \u001b[39mself\u001b[39m\u001b[39m.\u001b[39mtracking_uri \u001b[39m=\u001b[39m tracking_uri\n\u001b[0;32m     39\u001b[0m \u001b[39m# NB: Fetch the tracking store (`self.store`) upon client initialization to ensure that\u001b[39;00m\n\u001b[0;32m     40\u001b[0m \u001b[39m# the tracking URI is valid and the store can be properly resolved. We define `store` as a\u001b[39;00m\n\u001b[0;32m     41\u001b[0m \u001b[39m# property method to ensure that the client is serializable, even if the store is not\u001b[39;00m\n\u001b[0;32m     42\u001b[0m \u001b[39m# self.store  # pylint: disable=pointless-statement\u001b[39;00m\n\u001b[1;32m---> 43\u001b[0m \u001b[39mself\u001b[39;49m\u001b[39m.\u001b[39;49mstore\n",
      "File \u001b[1;32md:\\iNeuron\\Complete Project\\Deep-CNN_Classifier\\env\\lib\\site-packages\\mlflow\\tracking\\_tracking_service\\client.py:47\u001b[0m, in \u001b[0;36mTrackingServiceClient.store\u001b[1;34m(self)\u001b[0m\n\u001b[0;32m     45\u001b[0m \u001b[39m@property\u001b[39m\n\u001b[0;32m     46\u001b[0m \u001b[39mdef\u001b[39;00m \u001b[39mstore\u001b[39m(\u001b[39mself\u001b[39m):\n\u001b[1;32m---> 47\u001b[0m     \u001b[39mreturn\u001b[39;00m utils\u001b[39m.\u001b[39;49m_get_store(\u001b[39mself\u001b[39;49m\u001b[39m.\u001b[39;49mtracking_uri)\n",
      "File \u001b[1;32md:\\iNeuron\\Complete Project\\Deep-CNN_Classifier\\env\\lib\\site-packages\\mlflow\\tracking\\_tracking_service\\utils.py:165\u001b[0m, in \u001b[0;36m_get_store\u001b[1;34m(store_uri, artifact_uri)\u001b[0m\n\u001b[0;32m    164\u001b[0m \u001b[39mdef\u001b[39;00m \u001b[39m_get_store\u001b[39m(store_uri\u001b[39m=\u001b[39m\u001b[39mNone\u001b[39;00m, artifact_uri\u001b[39m=\u001b[39m\u001b[39mNone\u001b[39;00m):\n\u001b[1;32m--> 165\u001b[0m     \u001b[39mreturn\u001b[39;00m _tracking_store_registry\u001b[39m.\u001b[39;49mget_store(store_uri, artifact_uri)\n",
      "File \u001b[1;32md:\\iNeuron\\Complete Project\\Deep-CNN_Classifier\\env\\lib\\site-packages\\mlflow\\tracking\\_tracking_service\\registry.py:39\u001b[0m, in \u001b[0;36mTrackingStoreRegistry.get_store\u001b[1;34m(self, store_uri, artifact_uri)\u001b[0m\n\u001b[0;32m     36\u001b[0m \u001b[39mfrom\u001b[39;00m \u001b[39mmlflow\u001b[39;00m\u001b[39m.\u001b[39;00m\u001b[39mtracking\u001b[39;00m\u001b[39m.\u001b[39;00m\u001b[39m_tracking_service\u001b[39;00m \u001b[39mimport\u001b[39;00m utils\n\u001b[0;32m     38\u001b[0m resolved_store_uri \u001b[39m=\u001b[39m utils\u001b[39m.\u001b[39m_resolve_tracking_uri(store_uri)\n\u001b[1;32m---> 39\u001b[0m \u001b[39mreturn\u001b[39;00m \u001b[39mself\u001b[39;49m\u001b[39m.\u001b[39;49m_get_store_with_resolved_uri(resolved_store_uri, artifact_uri)\n",
      "File \u001b[1;32md:\\iNeuron\\Complete Project\\Deep-CNN_Classifier\\env\\lib\\site-packages\\mlflow\\tracking\\_tracking_service\\registry.py:49\u001b[0m, in \u001b[0;36mTrackingStoreRegistry._get_store_with_resolved_uri\u001b[1;34m(self, resolved_store_uri, artifact_uri)\u001b[0m\n\u001b[0;32m     43\u001b[0m \u001b[39m\u001b[39m\u001b[39m\"\"\"\u001b[39;00m\n\u001b[0;32m     44\u001b[0m \u001b[39mRetrieve the store associated with a resolved (non-None) store URI and an artifact URI.\u001b[39;00m\n\u001b[0;32m     45\u001b[0m \u001b[39mCaching is done on resolved URIs because the meaning of an unresolved (None) URI may change\u001b[39;00m\n\u001b[0;32m     46\u001b[0m \u001b[39mdepending on external configuration, such as environment variables\u001b[39;00m\n\u001b[0;32m     47\u001b[0m \u001b[39m\"\"\"\u001b[39;00m\n\u001b[0;32m     48\u001b[0m builder \u001b[39m=\u001b[39m \u001b[39mself\u001b[39m\u001b[39m.\u001b[39mget_store_builder(resolved_store_uri)\n\u001b[1;32m---> 49\u001b[0m \u001b[39mreturn\u001b[39;00m builder(store_uri\u001b[39m=\u001b[39;49mresolved_store_uri, artifact_uri\u001b[39m=\u001b[39;49martifact_uri)\n",
      "File \u001b[1;32md:\\iNeuron\\Complete Project\\Deep-CNN_Classifier\\env\\lib\\site-packages\\mlflow\\tracking\\_tracking_service\\utils.py:119\u001b[0m, in \u001b[0;36m_get_file_store\u001b[1;34m(store_uri, **_)\u001b[0m\n\u001b[0;32m    118\u001b[0m \u001b[39mdef\u001b[39;00m \u001b[39m_get_file_store\u001b[39m(store_uri, \u001b[39m*\u001b[39m\u001b[39m*\u001b[39m_):\n\u001b[1;32m--> 119\u001b[0m     \u001b[39mreturn\u001b[39;00m FileStore(store_uri, store_uri)\n",
      "File \u001b[1;32md:\\iNeuron\\Complete Project\\Deep-CNN_Classifier\\env\\lib\\site-packages\\mlflow\\store\\tracking\\file_store.py:141\u001b[0m, in \u001b[0;36mFileStore.__init__\u001b[1;34m(self, root_directory, artifact_root_uri)\u001b[0m\n\u001b[0;32m    139\u001b[0m \u001b[39m# Create root directory if needed\u001b[39;00m\n\u001b[0;32m    140\u001b[0m \u001b[39mif\u001b[39;00m \u001b[39mnot\u001b[39;00m exists(\u001b[39mself\u001b[39m\u001b[39m.\u001b[39mroot_directory):\n\u001b[1;32m--> 141\u001b[0m     mkdir(\u001b[39mself\u001b[39;49m\u001b[39m.\u001b[39;49mroot_directory)\n\u001b[0;32m    142\u001b[0m     \u001b[39mself\u001b[39m\u001b[39m.\u001b[39m_create_experiment_with_id(\n\u001b[0;32m    143\u001b[0m         name\u001b[39m=\u001b[39mExperiment\u001b[39m.\u001b[39mDEFAULT_EXPERIMENT_NAME,\n\u001b[0;32m    144\u001b[0m         experiment_id\u001b[39m=\u001b[39mFileStore\u001b[39m.\u001b[39mDEFAULT_EXPERIMENT_ID,\n\u001b[0;32m    145\u001b[0m         artifact_uri\u001b[39m=\u001b[39m\u001b[39mNone\u001b[39;00m,\n\u001b[0;32m    146\u001b[0m         tags\u001b[39m=\u001b[39m\u001b[39mNone\u001b[39;00m,\n\u001b[0;32m    147\u001b[0m     )\n\u001b[0;32m    148\u001b[0m \u001b[39m# Create trash folder if needed\u001b[39;00m\n",
      "File \u001b[1;32md:\\iNeuron\\Complete Project\\Deep-CNN_Classifier\\env\\lib\\site-packages\\mlflow\\utils\\file_utils.py:117\u001b[0m, in \u001b[0;36mmkdir\u001b[1;34m(root, name)\u001b[0m\n\u001b[0;32m    115\u001b[0m \u001b[39mexcept\u001b[39;00m \u001b[39mOSError\u001b[39;00m \u001b[39mas\u001b[39;00m e:\n\u001b[0;32m    116\u001b[0m     \u001b[39mif\u001b[39;00m e\u001b[39m.\u001b[39merrno \u001b[39m!=\u001b[39m errno\u001b[39m.\u001b[39mEEXIST \u001b[39mor\u001b[39;00m \u001b[39mnot\u001b[39;00m os\u001b[39m.\u001b[39mpath\u001b[39m.\u001b[39misdir(target):\n\u001b[1;32m--> 117\u001b[0m         \u001b[39mraise\u001b[39;00m e\n\u001b[0;32m    118\u001b[0m \u001b[39mreturn\u001b[39;00m target\n",
      "File \u001b[1;32md:\\iNeuron\\Complete Project\\Deep-CNN_Classifier\\env\\lib\\site-packages\\mlflow\\utils\\file_utils.py:114\u001b[0m, in \u001b[0;36mmkdir\u001b[1;34m(root, name)\u001b[0m\n\u001b[0;32m    112\u001b[0m target \u001b[39m=\u001b[39m os\u001b[39m.\u001b[39mpath\u001b[39m.\u001b[39mjoin(root, name) \u001b[39mif\u001b[39;00m name \u001b[39mis\u001b[39;00m \u001b[39mnot\u001b[39;00m \u001b[39mNone\u001b[39;00m \u001b[39melse\u001b[39;00m root\n\u001b[0;32m    113\u001b[0m \u001b[39mtry\u001b[39;00m:\n\u001b[1;32m--> 114\u001b[0m     os\u001b[39m.\u001b[39;49mmakedirs(target)\n\u001b[0;32m    115\u001b[0m \u001b[39mexcept\u001b[39;00m \u001b[39mOSError\u001b[39;00m \u001b[39mas\u001b[39;00m e:\n\u001b[0;32m    116\u001b[0m     \u001b[39mif\u001b[39;00m e\u001b[39m.\u001b[39merrno \u001b[39m!=\u001b[39m errno\u001b[39m.\u001b[39mEEXIST \u001b[39mor\u001b[39;00m \u001b[39mnot\u001b[39;00m os\u001b[39m.\u001b[39mpath\u001b[39m.\u001b[39misdir(target):\n",
      "File \u001b[1;32md:\\iNeuron\\Complete Project\\Deep-CNN_Classifier\\env\\lib\\os.py:213\u001b[0m, in \u001b[0;36mmakedirs\u001b[1;34m(name, mode, exist_ok)\u001b[0m\n\u001b[0;32m    211\u001b[0m \u001b[39mif\u001b[39;00m head \u001b[39mand\u001b[39;00m tail \u001b[39mand\u001b[39;00m \u001b[39mnot\u001b[39;00m path\u001b[39m.\u001b[39mexists(head):\n\u001b[0;32m    212\u001b[0m     \u001b[39mtry\u001b[39;00m:\n\u001b[1;32m--> 213\u001b[0m         makedirs(head, exist_ok\u001b[39m=\u001b[39;49mexist_ok)\n\u001b[0;32m    214\u001b[0m     \u001b[39mexcept\u001b[39;00m \u001b[39mFileExistsError\u001b[39;00m:\n\u001b[0;32m    215\u001b[0m         \u001b[39m# Defeats race condition when another thread created the path\u001b[39;00m\n\u001b[0;32m    216\u001b[0m         \u001b[39mpass\u001b[39;00m\n",
      "File \u001b[1;32md:\\iNeuron\\Complete Project\\Deep-CNN_Classifier\\env\\lib\\os.py:213\u001b[0m, in \u001b[0;36mmakedirs\u001b[1;34m(name, mode, exist_ok)\u001b[0m\n\u001b[0;32m    211\u001b[0m \u001b[39mif\u001b[39;00m head \u001b[39mand\u001b[39;00m tail \u001b[39mand\u001b[39;00m \u001b[39mnot\u001b[39;00m path\u001b[39m.\u001b[39mexists(head):\n\u001b[0;32m    212\u001b[0m     \u001b[39mtry\u001b[39;00m:\n\u001b[1;32m--> 213\u001b[0m         makedirs(head, exist_ok\u001b[39m=\u001b[39;49mexist_ok)\n\u001b[0;32m    214\u001b[0m     \u001b[39mexcept\u001b[39;00m \u001b[39mFileExistsError\u001b[39;00m:\n\u001b[0;32m    215\u001b[0m         \u001b[39m# Defeats race condition when another thread created the path\u001b[39;00m\n\u001b[0;32m    216\u001b[0m         \u001b[39mpass\u001b[39;00m\n",
      "File \u001b[1;32md:\\iNeuron\\Complete Project\\Deep-CNN_Classifier\\env\\lib\\os.py:213\u001b[0m, in \u001b[0;36mmakedirs\u001b[1;34m(name, mode, exist_ok)\u001b[0m\n\u001b[0;32m    211\u001b[0m \u001b[39mif\u001b[39;00m head \u001b[39mand\u001b[39;00m tail \u001b[39mand\u001b[39;00m \u001b[39mnot\u001b[39;00m path\u001b[39m.\u001b[39mexists(head):\n\u001b[0;32m    212\u001b[0m     \u001b[39mtry\u001b[39;00m:\n\u001b[1;32m--> 213\u001b[0m         makedirs(head, exist_ok\u001b[39m=\u001b[39;49mexist_ok)\n\u001b[0;32m    214\u001b[0m     \u001b[39mexcept\u001b[39;00m \u001b[39mFileExistsError\u001b[39;00m:\n\u001b[0;32m    215\u001b[0m         \u001b[39m# Defeats race condition when another thread created the path\u001b[39;00m\n\u001b[0;32m    216\u001b[0m         \u001b[39mpass\u001b[39;00m\n",
      "File \u001b[1;32md:\\iNeuron\\Complete Project\\Deep-CNN_Classifier\\env\\lib\\os.py:223\u001b[0m, in \u001b[0;36mmakedirs\u001b[1;34m(name, mode, exist_ok)\u001b[0m\n\u001b[0;32m    221\u001b[0m         \u001b[39mreturn\u001b[39;00m\n\u001b[0;32m    222\u001b[0m \u001b[39mtry\u001b[39;00m:\n\u001b[1;32m--> 223\u001b[0m     mkdir(name, mode)\n\u001b[0;32m    224\u001b[0m \u001b[39mexcept\u001b[39;00m \u001b[39mOSError\u001b[39;00m:\n\u001b[0;32m    225\u001b[0m     \u001b[39m# Cannot rely on checking for EEXIST, since the operating system\u001b[39;00m\n\u001b[0;32m    226\u001b[0m     \u001b[39m# could give priority to other errors like EACCES or EROFS\u001b[39;00m\n\u001b[0;32m    227\u001b[0m     \u001b[39mif\u001b[39;00m \u001b[39mnot\u001b[39;00m exist_ok \u001b[39mor\u001b[39;00m \u001b[39mnot\u001b[39;00m path\u001b[39m.\u001b[39misdir(name):\n",
      "\u001b[1;31mFileNotFoundError\u001b[0m: [WinError 3] The system cannot find the path specified: 'S:\\\\'"
     ]
    }
   ],
   "source": [
    "try:\n",
    "    config = ConfigurationManager()\n",
    "    eval_config = config.get_evaluation_config()\n",
    "    evaluation = Evaluation(config = eval_config)\n",
    "    evaluation.evaluation()\n",
    "    evaluation.save_score()\n",
    "    evaluation.log_into_mlflow()\n",
    "except Exception as e:\n",
    "    raise e"
   ]
  },
  {
   "cell_type": "code",
   "execution_count": null,
   "metadata": {},
   "outputs": [],
   "source": []
  }
 ],
 "metadata": {
  "kernelspec": {
   "display_name": "Python 3",
   "language": "python",
   "name": "python3"
  },
  "language_info": {
   "codemirror_mode": {
    "name": "ipython",
    "version": 3
   },
   "file_extension": ".py",
   "mimetype": "text/x-python",
   "name": "python",
   "nbconvert_exporter": "python",
   "pygments_lexer": "ipython3",
   "version": "3.8.16"
  },
  "vscode": {
   "interpreter": {
    "hash": "2ee081d1bcc302435b932060a171236468ce37c48e4a1266f426a76ec7549d92"
   }
  }
 },
 "nbformat": 4,
 "nbformat_minor": 2
}
