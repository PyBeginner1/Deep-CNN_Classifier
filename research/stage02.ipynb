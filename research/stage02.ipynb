{
 "cells": [
  {
   "cell_type": "code",
   "execution_count": 1,
   "metadata": {},
   "outputs": [],
   "source": [
    "import os\n",
    "from deepClassifier.constants import *"
   ]
  },
  {
   "cell_type": "code",
   "execution_count": 2,
   "metadata": {},
   "outputs": [
    {
     "data": {
      "text/plain": [
       "'d:\\\\iNeuron\\\\Complete Project\\\\Deep-CNN_Classifier\\\\research'"
      ]
     },
     "execution_count": 2,
     "metadata": {},
     "output_type": "execute_result"
    }
   ],
   "source": [
    "os.getcwd()"
   ]
  },
  {
   "cell_type": "code",
   "execution_count": 3,
   "metadata": {},
   "outputs": [],
   "source": [
    "os.chdir('../')"
   ]
  },
  {
   "cell_type": "code",
   "execution_count": 4,
   "metadata": {},
   "outputs": [
    {
     "data": {
      "text/plain": [
       "'d:\\\\iNeuron\\\\Complete Project\\\\Deep-CNN_Classifier'"
      ]
     },
     "execution_count": 4,
     "metadata": {},
     "output_type": "execute_result"
    }
   ],
   "source": [
    "os.getcwd()"
   ]
  },
  {
   "cell_type": "code",
   "execution_count": 5,
   "metadata": {},
   "outputs": [],
   "source": [
    "from dataclasses import dataclass\n",
    "from pathlib import Path \n",
    "\n",
    "@dataclass(frozen=True)\n",
    "class PrepareBaseModelConfig:\n",
    "    root_dir: Path\n",
    "    base_model_path: Path\n",
    "    updated_base_model_path: Path\n",
    "    params_image_size : list\n",
    "    params_learning_rate: float\n",
    "    params_include_top: bool\n",
    "    params_weights: str\n",
    "    params_classes: int"
   ]
  },
  {
   "cell_type": "code",
   "execution_count": 6,
   "metadata": {},
   "outputs": [],
   "source": [
    "from deepClassifier.constants import *\n",
    "from deepClassifier.utils import read_yaml, create_directories"
   ]
  },
  {
   "cell_type": "code",
   "execution_count": 16,
   "metadata": {},
   "outputs": [],
   "source": [
    "from pathlib import Path \n",
    "\n",
    "class ConfigurationManager:\n",
    "    def __init__(self, \n",
    "                config_file_path = CONFIG_FILE_PATH, \n",
    "                params_file_path = PARAMS_FILE_PATH):\n",
    "        try:\n",
    "            self.config = read_yaml(config_file_path)\n",
    "            self.params = read_yaml(params_file_path)\n",
    "            create_directories([self.config.artifacts_root])\n",
    "        except Exception as e:\n",
    "            raise e\n",
    "\n",
    "    def get_prepare_base_model_config(self) -> PrepareBaseModelConfig:\n",
    "        try:\n",
    "            config = self.config.prepare_base_model\n",
    "            params = self.params\n",
    "\n",
    "            root_dir = config.root_dir\n",
    "            create_directories([root_dir])\n",
    "            base_model_path = config.base_model_path\n",
    "            updated_base_model_path = config.updated_base_model_path\n",
    "\n",
    "            params_image_size = params.IMAGE_SIZE\n",
    "            params_learning_rate = params.LEARNING_RATE\n",
    "            params_include_top = params.INCLUDE_TOP\n",
    "            params_weights = params.WEIGHTS\n",
    "            params_classes = params.CLASSES\n",
    "\n",
    "            prepare_base_model_config = PrepareBaseModelConfig(\n",
    "                root_dir=Path(root_dir),\n",
    "                base_model_path=Path(base_model_path),\n",
    "                updated_base_model_path=Path(updated_base_model_path),\n",
    "                params_image_size=params_image_size,\n",
    "                params_learning_rate=params_learning_rate,\n",
    "                params_include_top=params_include_top,\n",
    "                params_weights=params_weights,\n",
    "                params_classes=params_classes\n",
    "            )\n",
    "            \n",
    "            return prepare_base_model_config\n",
    "        except Exception as e:\n",
    "            raise e"
   ]
  },
  {
   "cell_type": "code",
   "execution_count": 36,
   "metadata": {},
   "outputs": [],
   "source": [
    "import tensorflow as tf\n",
    "\n",
    "\n",
    "class PrepareBaseModel:\n",
    "    def __init__(self, config: PrepareBaseModelConfig):\n",
    "        self.config = config\n",
    "\n",
    "    def get_base_model(self):\n",
    "        try: \n",
    "            self.model = tf.keras.applications.vgg16.VGG16(\n",
    "                input_shape = self.config.params_image_size,\n",
    "                weights = self.config.params_weights,\n",
    "                include_top = self.config.params_include_top             #Do not include last layer\n",
    "            )\n",
    "\n",
    "            base_model_path = self.config.base_model_path\n",
    "\n",
    "            self.save_model(path = base_model_path, model = self.model)\n",
    "\n",
    "        except Exception as e:\n",
    "            raise e\n",
    "        \n",
    "    @staticmethod\n",
    "    def _prepare_final_model(model, classes, freeze_all, freeze_till, learning_rate):\n",
    "        try:\n",
    "            if freeze_all:\n",
    "                for layer in model.layers:\n",
    "                    model.trainable = False \n",
    "            elif (freeze_till is not None) and (freeze_till>0):\n",
    "                for layer in model.layers[:-freeze_till]:\n",
    "                    model.trainable = False\n",
    "\n",
    "            flatten_in = tf.keras.layers.Flatten()(model.output)\n",
    "            prediction = tf.keras.layers.Dense(\n",
    "                units = classes,\n",
    "                activation = 'softmax'\n",
    "            )(flatten_in)\n",
    "\n",
    "            final_model = tf.keras.models.Model(\n",
    "                inputs = model.input,\n",
    "                outputs = prediction\n",
    "            )\n",
    "\n",
    "            final_model.compile(\n",
    "                optimizer = tf.keras.optimizers.SGD(learning_rate=learning_rate),\n",
    "                loss = tf.keras.losses.CategoricalCrossentropy(),\n",
    "                metrics = ['accuracy']\n",
    "            )\n",
    "            final_model.summary()\n",
    "            return final_model\n",
    "        except Exception as e:\n",
    "            raise e\n",
    "        \n",
    "        \n",
    "    def update_base_model(self):\n",
    "        self.full_model = self._prepare_final_model(\n",
    "            model=self.model,\n",
    "            classes=self.config.params_classes,\n",
    "            freeze_all=True,\n",
    "            freeze_till=None,\n",
    "            learning_rate=self.config.params_learning_rate\n",
    "        )\n",
    "\n",
    "        self.save_model(path=self.config.updated_base_model_path, model=self.full_model)\n",
    "\n",
    "    @staticmethod\n",
    "    def save_model(path: Path, model: tf.keras.Model):\n",
    "        model.save(path)"
   ]
  },
  {
   "cell_type": "code",
   "execution_count": 37,
   "metadata": {},
   "outputs": [
    {
     "name": "stdout",
     "output_type": "stream",
     "text": [
      "Model: \"model_7\"\n",
      "_________________________________________________________________\n",
      " Layer (type)                Output Shape              Param #   \n",
      "=================================================================\n",
      " input_12 (InputLayer)       [(None, 224, 224, 3)]     0         \n",
      "                                                                 \n",
      " block1_conv1 (Conv2D)       (None, 224, 224, 64)      1792      \n",
      "                                                                 \n",
      " block1_conv2 (Conv2D)       (None, 224, 224, 64)      36928     \n",
      "                                                                 \n",
      " block1_pool (MaxPooling2D)  (None, 112, 112, 64)      0         \n",
      "                                                                 \n",
      " block2_conv1 (Conv2D)       (None, 112, 112, 128)     73856     \n",
      "                                                                 \n",
      " block2_conv2 (Conv2D)       (None, 112, 112, 128)     147584    \n",
      "                                                                 \n",
      " block2_pool (MaxPooling2D)  (None, 56, 56, 128)       0         \n",
      "                                                                 \n",
      " block3_conv1 (Conv2D)       (None, 56, 56, 256)       295168    \n",
      "                                                                 \n",
      " block3_conv2 (Conv2D)       (None, 56, 56, 256)       590080    \n",
      "                                                                 \n",
      " block3_conv3 (Conv2D)       (None, 56, 56, 256)       590080    \n",
      "                                                                 \n",
      " block3_pool (MaxPooling2D)  (None, 28, 28, 256)       0         \n",
      "                                                                 \n",
      " block4_conv1 (Conv2D)       (None, 28, 28, 512)       1180160   \n",
      "                                                                 \n",
      " block4_conv2 (Conv2D)       (None, 28, 28, 512)       2359808   \n",
      "                                                                 \n",
      " block4_conv3 (Conv2D)       (None, 28, 28, 512)       2359808   \n",
      "                                                                 \n",
      " block4_pool (MaxPooling2D)  (None, 14, 14, 512)       0         \n",
      "                                                                 \n",
      " block5_conv1 (Conv2D)       (None, 14, 14, 512)       2359808   \n",
      "                                                                 \n",
      " block5_conv2 (Conv2D)       (None, 14, 14, 512)       2359808   \n",
      "                                                                 \n",
      " block5_conv3 (Conv2D)       (None, 14, 14, 512)       2359808   \n",
      "                                                                 \n",
      " block5_pool (MaxPooling2D)  (None, 7, 7, 512)         0         \n",
      "                                                                 \n",
      " flatten_8 (Flatten)         (None, 25088)             0         \n",
      "                                                                 \n",
      " dense_8 (Dense)             (None, 2)                 50178     \n",
      "                                                                 \n",
      "=================================================================\n",
      "Total params: 14,764,866\n",
      "Trainable params: 50,178\n",
      "Non-trainable params: 14,714,688\n",
      "_________________________________________________________________\n"
     ]
    }
   ],
   "source": [
    "try:\n",
    "    config = ConfigurationManager()\n",
    "    prepare_base_model_config = config.get_prepare_base_model_config()\n",
    "    prepare_base_model = PrepareBaseModel(config=prepare_base_model_config)\n",
    "    prepare_base_model.get_base_model()\n",
    "    prepare_base_model.update_base_model()\n",
    "except Exception as e:\n",
    "    raise e "
   ]
  },
  {
   "cell_type": "code",
   "execution_count": null,
   "metadata": {},
   "outputs": [],
   "source": []
  }
 ],
 "metadata": {
  "kernelspec": {
   "display_name": "Python 3",
   "language": "python",
   "name": "python3"
  },
  "language_info": {
   "codemirror_mode": {
    "name": "ipython",
    "version": 3
   },
   "file_extension": ".py",
   "mimetype": "text/x-python",
   "name": "python",
   "nbconvert_exporter": "python",
   "pygments_lexer": "ipython3",
   "version": "3.8.16"
  },
  "orig_nbformat": 4,
  "vscode": {
   "interpreter": {
    "hash": "2ee081d1bcc302435b932060a171236468ce37c48e4a1266f426a76ec7549d92"
   }
  }
 },
 "nbformat": 4,
 "nbformat_minor": 2
}
