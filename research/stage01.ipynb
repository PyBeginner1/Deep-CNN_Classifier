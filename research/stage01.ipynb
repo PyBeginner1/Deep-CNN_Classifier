{
 "cells": [
  {
   "cell_type": "code",
   "execution_count": 42,
   "metadata": {},
   "outputs": [],
   "source": [
    "from collections import namedtuple\n",
    "import os \n",
    "os.chdir('../')"
   ]
  },
  {
   "cell_type": "code",
   "execution_count": 43,
   "metadata": {},
   "outputs": [],
   "source": [
    "DataIngestionConfig = namedtuple('DataIngestionConfig', [\n",
    "    'root_dir','source_URL', 'local_data_file','unzip_dir'\n",
    "])"
   ]
  },
  {
   "cell_type": "code",
   "execution_count": 44,
   "metadata": {},
   "outputs": [],
   "source": [
    "from deepClassifier.constants import *\n",
    "from deepClassifier.utils import read_yaml, create_directories"
   ]
  },
  {
   "cell_type": "code",
   "execution_count": 67,
   "metadata": {},
   "outputs": [],
   "source": [
    "class ConfigurationManager:\n",
    "    def __init__(self, \n",
    "                config_file_path = CONFIG_FILE_PATH, \n",
    "                params_file_path = PARAMS_FILE_PATH):\n",
    "        try:\n",
    "            self.config = read_yaml(config_file_path)\n",
    "            self.params = read_yaml(params_file_path)\n",
    "            create_directories([self.config.artifacts_root])\n",
    "        except Exception as e:\n",
    "            raise e\n",
    "\n",
    "    def get_data_ingestion_config(self) -> DataIngestionConfig:\n",
    "        try:\n",
    "            config = self.config.data_ingestion            \n",
    "\n",
    "            root_dir = config.root_dir\n",
    "            \n",
    "            create_directories([config.root_dir])\n",
    "\n",
    "            source_URL = config.source_URL\n",
    "            local_data_file = config.local_data_file\n",
    "            unzip_dir = config.unzip_dir\n",
    "\n",
    "            \n",
    "            data_ingestion_config = DataIngestionConfig(\n",
    "                root_dir= root_dir,\n",
    "                source_URL= source_URL,\n",
    "                local_data_file= local_data_file,\n",
    "                unzip_dir= unzip_dir\n",
    "            )\n",
    "\n",
    "            return data_ingestion_config\n",
    "        except Exception as e:\n",
    "            raise e"
   ]
  },
  {
   "cell_type": "code",
   "execution_count": 69,
   "metadata": {},
   "outputs": [],
   "source": [
    "import os\n",
    "import urllib.request as request \n",
    "from zipfile import ZipFile\n",
    "\n",
    "class DataIngestionComponent:\n",
    "    def __init__(self, config: DataIngestionConfig):\n",
    "        try:\n",
    "            self.config = config\n",
    "        except Exception as e:\n",
    "            raise e \n",
    "\n",
    "    def download_file(self):\n",
    "        try:\n",
    "            if not os.path.exists(self.config.local_data_file):\n",
    "                filename, headers = request.urlretrieve(\n",
    "                    url = self.config.source_URL,\n",
    "                    filename=self.config.local_data_file\n",
    "                )\n",
    "        except Exception as e:\n",
    "            raise e  \n",
    "        \n",
    "    def _get_updated_list_of_files(self,list_of_files):\n",
    "        try:\n",
    "            return [file for file in list_of_files if file.endswith(\".jpg\") and ('Cat' in file or 'Dog' in file)] \n",
    "        except Exception as e:\n",
    "            raise e \n",
    "        \n",
    "    def _preprocess(self, zf: ZipFile, file: str, working_dir):\n",
    "        try:\n",
    "            target_file_path = os.path.join(working_dir, file) \n",
    "\n",
    "            if not os.path.exists(target_file_path):\n",
    "                zf.extract(file, working_dir)\n",
    "\n",
    "            #remove file with size 0\n",
    "            if os.path.getsize(target_file_path) == 0:\n",
    "                os.remove(target_file_path)\n",
    "        except Exception as e:\n",
    "            raise e\n",
    "\n",
    "    def unzip_and_clean(self):\n",
    "        try:\n",
    "            with ZipFile(file=self.config.local_data_file,mode = 'r') as zf:\n",
    "                list_of_files = zf.namelist()\n",
    "                updated_list_of_files = self._get_updated_list_of_files(list_of_files) \n",
    "                for file in updated_list_of_files:\n",
    "                    self._preprocess(zf, file, self.config.unzip_dir)\n",
    "            \n",
    "        except Exception as e:\n",
    "            raise e  "
   ]
  },
  {
   "cell_type": "code",
   "execution_count": 60,
   "metadata": {},
   "outputs": [],
   "source": [
    "with ZipFile(file = r'D:\\Music\\Music\\kagglecatsanddogs_5340.zip', mode = 'r') as zf:\n",
    "    list_of_files = zf.namelist()"
   ]
  },
  {
   "cell_type": "code",
   "execution_count": 61,
   "metadata": {},
   "outputs": [
    {
     "data": {
      "text/plain": [
       "['PetImages/Cat/',\n",
       " 'PetImages/Cat/0.jpg',\n",
       " 'PetImages/Cat/1.jpg',\n",
       " 'PetImages/Cat/10.jpg',\n",
       " 'PetImages/Cat/100.jpg',\n",
       " 'PetImages/Cat/1000.jpg',\n",
       " 'PetImages/Cat/10000.jpg']"
      ]
     },
     "execution_count": 61,
     "metadata": {},
     "output_type": "execute_result"
    }
   ],
   "source": [
    "list_of_files[0:7]"
   ]
  },
  {
   "cell_type": "code",
   "execution_count": 62,
   "metadata": {},
   "outputs": [
    {
     "data": {
      "text/plain": [
       "['PetImages/Cat/0.jpg',\n",
       " 'PetImages/Cat/1.jpg',\n",
       " 'PetImages/Cat/10.jpg',\n",
       " 'PetImages/Cat/100.jpg',\n",
       " 'PetImages/Cat/1000.jpg',\n",
       " 'PetImages/Cat/10000.jpg',\n",
       " 'PetImages/Cat/10001.jpg']"
      ]
     },
     "execution_count": 62,
     "metadata": {},
     "output_type": "execute_result"
    }
   ],
   "source": [
    "updated_list_of_files = [file for file in list_of_files if file.endswith(\".jpg\") and ('Cat' in file or 'Dog' in file)][0:7]\n",
    "updated_list_of_files"
   ]
  },
  {
   "cell_type": "code",
   "execution_count": 63,
   "metadata": {},
   "outputs": [
    {
     "name": "stdout",
     "output_type": "stream",
     "text": [
      "PetImages/Cat/0.jpg\n",
      "PetImages/Cat/1.jpg\n",
      "PetImages/Cat/10.jpg\n",
      "PetImages/Cat/100.jpg\n",
      "PetImages/Cat/1000.jpg\n",
      "PetImages/Cat/10000.jpg\n",
      "PetImages/Cat/10001.jpg\n"
     ]
    }
   ],
   "source": [
    "for f in updated_list_of_files:\n",
    "    print(f)"
   ]
  },
  {
   "cell_type": "code",
   "execution_count": 70,
   "metadata": {},
   "outputs": [
    {
     "name": "stdout",
     "output_type": "stream",
     "text": [
      "[2023-02-12 11:00:16,421: INFO: common]: yaml file: configs\\config.yaml loaded successfully\n",
      "[2023-02-12 11:00:16,426: INFO: common]: yaml file: params.yaml loaded successfully\n",
      "[2023-02-12 11:00:16,431: INFO: common]: created directory at: artifacts\n",
      "[2023-02-12 11:00:16,433: INFO: common]: created directory at: artifacts/data_ingestion\n"
     ]
    }
   ],
   "source": [
    "try:\n",
    "    config = ConfigurationManager()\n",
    "    data_ingestion_config = config.get_data_ingestion_config()\n",
    "    data_ingestion = DataIngestionComponent(config=data_ingestion_config)\n",
    "    data_ingestion.download_file()\n",
    "    data_ingestion.unzip_and_clean()\n",
    "except Exception as e:\n",
    "    raise e"
   ]
  },
  {
   "cell_type": "code",
   "execution_count": null,
   "metadata": {},
   "outputs": [],
   "source": []
  },
  {
   "cell_type": "code",
   "execution_count": null,
   "metadata": {},
   "outputs": [],
   "source": []
  }
 ],
 "metadata": {
  "kernelspec": {
   "display_name": "Python 3",
   "language": "python",
   "name": "python3"
  },
  "language_info": {
   "codemirror_mode": {
    "name": "ipython",
    "version": 3
   },
   "file_extension": ".py",
   "mimetype": "text/x-python",
   "name": "python",
   "nbconvert_exporter": "python",
   "pygments_lexer": "ipython3",
   "version": "3.8.16"
  },
  "orig_nbformat": 4,
  "vscode": {
   "interpreter": {
    "hash": "2ee081d1bcc302435b932060a171236468ce37c48e4a1266f426a76ec7549d92"
   }
  }
 },
 "nbformat": 4,
 "nbformat_minor": 2
}
