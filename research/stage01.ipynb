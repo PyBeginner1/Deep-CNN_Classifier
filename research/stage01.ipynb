{
 "cells": [
  {
   "cell_type": "code",
   "execution_count": 1,
   "metadata": {},
   "outputs": [],
   "source": [
    "from collections import namedtuple"
   ]
  },
  {
   "cell_type": "code",
   "execution_count": 2,
   "metadata": {},
   "outputs": [],
   "source": [
    "DataIngestionConfig = namedtuple('DataIngestionConfig', [\n",
    "    'root_dir','source_URL', 'local_data_file','unzip_dir'\n",
    "])"
   ]
  },
  {
   "cell_type": "code",
   "execution_count": 3,
   "metadata": {},
   "outputs": [],
   "source": [
    "from deepClassifier.constants import *\n",
    "from deepClassifier.utils import read_yaml, create_directories"
   ]
  },
  {
   "cell_type": "code",
   "execution_count": 5,
   "metadata": {},
   "outputs": [],
   "source": [
    "class ConfigurationManager:\n",
    "    def __init__(self, \n",
    "                config_file_path = CONFIG_FILE_PATH, \n",
    "                params_file_path = PARAMS_FILE_PATH):\n",
    "        try:\n",
    "            self.config = read_yaml(config_file_path)\n",
    "            self.params = read_yaml(params_file_path)\n",
    "            create_directories([self.config.artifacts_root])\n",
    "        except Exception as e:\n",
    "            raise e\n",
    "\n",
    "    def get_data_ingestion_config(self) -> DataIngestionConfig:\n",
    "        try:\n",
    "            config = self.config.data_ingestion\n",
    "\n",
    "            create_directories(config[root_dir])\n",
    "\n",
    "            root_dir = config[root_dir]\n",
    "            source_URL = config[source_URL]\n",
    "            local_data_file = config[local_data_file]\n",
    "            unzip_dir = config[unzip_dir]\n",
    "\n",
    "            \n",
    "            data_ingestion_config = DataIngestionConfig(\n",
    "                root_dir= 'root_dir',\n",
    "                source_URL= 'source_URL',\n",
    "                local_data_file= 'local_data_file',\n",
    "                unzip_dir= 'unzip_dir'\n",
    "            )\n",
    "\n",
    "            return data_ingestion_config\n",
    "        except Exception as e:\n",
    "            raise e"
   ]
  },
  {
   "cell_type": "code",
   "execution_count": null,
   "metadata": {},
   "outputs": [],
   "source": [
    "import os\n",
    "import urllib.request as request \n",
    "from zipfile import ZipFile\n",
    "\n",
    "class DataIngestionComponent:\n",
    "    def __init__(self, config: DataIngestionConfig):\n",
    "        try:\n",
    "            self.config = config\n",
    "        except Exception as e:\n",
    "            raise e \n",
    "\n",
    "    def download_file(self):\n",
    "        try:\n",
    "            if not os.path.exists(self.config.local_data_file):\n",
    "                filename, headers = request.urlretrieve(\n",
    "                    url = self.config.source_URL,\n",
    "                    filename=self.config.local_data_file\n",
    "                )\n",
    "        except Exception as e:\n",
    "            raise e  \n",
    "\n",
    "    def unzip_and_clean(self):\n",
    "        try:\n",
    "            pass \n",
    "            \n",
    "        except Exception as e:\n",
    "            raise e  "
   ]
  }
 ],
 "metadata": {
  "kernelspec": {
   "display_name": "Python 3",
   "language": "python",
   "name": "python3"
  },
  "language_info": {
   "codemirror_mode": {
    "name": "ipython",
    "version": 3
   },
   "file_extension": ".py",
   "mimetype": "text/x-python",
   "name": "python",
   "nbconvert_exporter": "python",
   "pygments_lexer": "ipython3",
   "version": "3.8.16"
  },
  "orig_nbformat": 4,
  "vscode": {
   "interpreter": {
    "hash": "2ee081d1bcc302435b932060a171236468ce37c48e4a1266f426a76ec7549d92"
   }
  }
 },
 "nbformat": 4,
 "nbformat_minor": 2
}
